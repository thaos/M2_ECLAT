{
    "cells": [
        {
            "cell_type": "markdown",
            "metadata": {},
            "source": [
                "This is an [R Markdown](http://rmarkdown.rstudio.com) Notebook. When you execute code within the notebook, the results appear beneath the code. Execute a chunk by clicking the *Run* button within the chunk or by placing your cursor inside it and pressing *Ctrl+Shift+Enter*. \n",
                "\n",
                "Add a new chunk by clicking the *Insert Chunk* button on the toolbar or by pressing *Ctrl+Alt+I*.\n",
                "\n",
                "When you save the notebook, an HTML file containing the code and output will be saved alongside it (click the *Preview* button or press *Ctrl+Shift+K* to preview the HTML file).\n",
                "\n",
                "The preview shows you a rendered HTML copy of the contents of the editor. Consequently, unlike *Knit*, *Preview* does not run any R code chunks. Instead, the output of the chunk when it was last run in the editor is displayed.\n",
                "\n",
                "## Objectifs\n",
                "Le but est de présenter le principe de fonctionnement de la descente d'échelle statistique et de la correction. Pour cela, nous appliquerons quelques méthodes de base. Deux sont des méthodes dites de Perfect Prognosis et les deux autres de la catégorie Model Output Statstics.\n",
                "\n",
                "## Downscalling\n",
                "\n",
                "### Lecture des données\n"
            ]
        },
        {
            "cell_type": "code",
            "execution_count": null,
            "metadata": {},
            "outputs": [],
            "source": [
                "tas_df <- readRDS(\"Ex1_tas_df.rds\")\n",
                "\n",
                "# Downscaling\n",
                "X <- tas_df[, \"ERA5\"]\n",
                "Y <- tas_df[, \"GHCND_orly\"]\n",
                "ina <- is.na(X) | is.na(Y)\n",
                "X <- X[!ina]\n",
                "Y <- Y[!ina]\n",
                "dates <- as.numeric(rownames(tas_df))\n",
                "dates <- dates[!ina]\n"
            ]
        },
        {
            "cell_type": "markdown",
            "metadata": {},
            "source": [
                "### Séparation en base d'apprentissage et base de test (calibration/validation)\n",
                "\n"
            ]
        },
        {
            "cell_type": "code",
            "execution_count": null,
            "metadata": {},
            "outputs": [],
            "source": [
                "iapp <- dates < 20000101\n",
                "X_app <- X[iapp]\n",
                "Y_app <- Y[iapp]\n",
                "X_test <- X[!iapp]\n",
                "Y_test <- Y[!iapp]\n"
            ]
        },
        {
            "cell_type": "markdown",
            "metadata": {},
            "source": [
                "\n",
                "### Comparaison entre X et Y\n"
            ]
        },
        {
            "cell_type": "code",
            "execution_count": null,
            "metadata": {},
            "outputs": [],
            "source": [
                "# Root Mean Square Error (RMSE)\n",
                "sqrt(mean((Y_app - X_app)^2))\n",
                "# Correlation\n",
                "cor(X_app, Y_app)\n",
                "sqrt(mean((Y_test - X_test)^2))\n",
                "cor(X_test, Y_test)\n",
                "\n",
                "# Scatterplots\n",
                "par(mfrow = c(2, 1), pty = \"s\")\n",
                "xylim <- range(X, Y, na.rm = TRUE)\n",
                "plot(X_app, Y_app, xlim = xylim, ylim = xylim)\n",
                "abline(b = 1, a = 0, col = \"red\")\n",
                "plot(X_test, Y_test, xlim = xylim, ylim = xylim)\n",
                "abline(b = 1, a = 0, col = \"red\")\n",
                "\n",
                "# Différences des séries temporelles\n",
                "par(mfrow = c(2, 1), pty = \"m\")\n",
                "ylim = range(Y_app - X_app, Y_test - X_test)\n",
                "plot(Y_app - X_app, type = \"l\", ylim = ylim)\n",
                "plot(Y_test - X_test, type = \"l\", ylim = ylim)\n",
                "\n",
                "# quantile-quantile plot (QQ-plot)\n",
                "par(mfrow = c(2, 1), pty = \"s\")\n",
                "qqplot(X_app, Y_app, xlim = xylim, ylim = xylim, main = \"QQ-plot\")\n",
                "abline(b = 1, a = 0, col = \"red\")\n",
                "qqplot(X_test, Y_test, xlim = xylim, ylim = xylim, main = \"QQ-plot\")\n",
                "abline(b = 1, a = 0, col = \"red\")\n"
            ]
        },
        {
            "cell_type": "markdown",
            "metadata": {},
            "source": [
                "### Perfect Prog\n",
                "\n",
                "#### Linear Model\n",
                "\n",
                "Utiliser la fonction lm pour ajuster un modèle linéaire pour expliquer Y en fonction de X\n",
                "\n",
                "Utiliser la fonction *predict* pour appliquer le modèle appris à la base d'apprentissage et de test.\n",
                "\n",
                "Comparer les prédictions aux vrais valeurs de Y.\n",
                "\n",
                "Le modèle appris est il aussi sur la base de test que sur la base d'apprentissage ?\n"
            ]
        },
        {
            "cell_type": "code",
            "execution_count": null,
            "metadata": {},
            "outputs": [],
            "source": [
                "base_app <- data.frame(X = X_app, Y = Y_app)\n",
                "base_test <- data.frame(X = X_test, Y = Y_test)\n",
                "lm_fit <- lm(, data = ) # à compléter\n",
                "summary(lm_fit)\n",
                "\n",
                "lm_app <- predict()  # à compléter\n",
                "lm_test <- predict()  # à compléter\n",
                "\n",
                "# RMSE et corrélation entre valeurs prédites et réelles de Y sur base d'apprentissage\n",
                "\n",
                "\n",
                "# RMSE et corrélation entre valeurs prédites et réelles de Y sur base de test\n",
                "\n",
                "\n",
                "# diagnostics graphiques sur bases d'apprentissage et de test\n",
                "par(mfrow = c(2, 1), pty = \"s\")\n",
                "plot(lm_app, Y_app, xlim = xylim, ylim = xylim)\n",
                "abline(b = 1, a = 0, col = \"red\")\n",
                "plot(lm_test, Y_test, xlim = xylim, ylim = xylim)\n",
                "abline(b = 1, a = 0, col = \"red\")\n",
                "\n",
                "ylim = range(Y_app - lm_app, Y_test - lm_test)\n",
                "par(mfrow = c(2, 1), pty = \"m\")\n",
                "plot(Y_app - lm_app, type = \"l\", ylim = ylim)\n",
                "plot(Y_test - lm_test, type = \"l\", ylim = ylim)\n",
                "\n",
                "par(mfrow = c(2, 1), pty = \"s\")\n",
                "qqplot(lm_app, Y_app, xlim = xylim, ylim = xylim, main = \"QQ-plot\")\n",
                "abline(b = 1, a = 0, col = \"red\")\n",
                "qqplot(lm_test, Y_test, xlim = xylim, ylim = xylim, main = \"QQ-plot\")\n",
                "abline(b = 1, a = 0, col = \"red\")\n"
            ]
        },
        {
            "cell_type": "markdown",
            "metadata": {},
            "source": [
                "#### analogues / nearest-neighbour\n",
                "\n",
                "Appliquer la descente d'échelle par analogue.\n",
                "\n",
                "Pour cela, il faut calculer la distance entre les valeurs de X de la base d'apprentissage et les valeurs de X pour les quelles on souhaite prédire la valeur en Y.\n",
                "\n",
                "fonction utile: *which.min*\n",
                "\n",
                "Réaliser les mêmes diagnostics que pour le modèle linéaire.\n"
            ]
        },
        {
            "cell_type": "code",
            "execution_count": null,
            "metadata": {},
            "outputs": [],
            "source": [
                "\n",
                "\n"
            ]
        },
        {
            "cell_type": "markdown",
            "metadata": {},
            "source": [
                "### Model Output Statistic\n",
                "\n",
                "#### simple mean correction\n",
                "\n",
                "Appliquer la descente d'échelle par correction de la moyenne.\n",
                "Réaliser les mêmes dignostics que pour le modèles linéaires.\n"
            ]
        },
        {
            "cell_type": "code",
            "execution_count": null,
            "metadata": {},
            "outputs": [],
            "source": [
                "\n",
                "\n"
            ]
        },
        {
            "cell_type": "markdown",
            "metadata": {},
            "source": [
                "#### quantile-quantile correction\n",
                "\n",
                "Appliquer la descente d'échelle via la correction quantile quantile.\n",
                "\n",
                "Fonctions utiles: *ecdf*, *quantile*\n",
                "\n",
                "Réaliser les mêmes diagnostics que pour le modèles linéaires.\n"
            ]
        },
        {
            "cell_type": "code",
            "execution_count": null,
            "metadata": {},
            "outputs": [],
            "source": [
                "\n",
                "\n"
            ]
        },
        {
            "cell_type": "markdown",
            "metadata": {},
            "source": [
                "### Summary plots\n",
                "#### Apprentissage\n",
                "Quelle est la méthode le plus performante sur la base d'apprentissage ?\n"
            ]
        },
        {
            "cell_type": "code",
            "execution_count": null,
            "metadata": {},
            "outputs": [],
            "source": [
                "# Point by point\n",
                "par(pty = \"s\")\n",
                "plot(X_app, Y_app, xlim = xylim, ylim = xylim, pch = 20, cex = 0.5)\n",
                "# linear model\n",
                "points(lm_app, Y_app, xlim = xylim, ylim = xylim, pch = 20, cex = 0.5, col = 2)\n",
                "# nearest neighbour\n",
                "points(nn_app, Y_app, xlim = xylim, ylim = xylim, pch = 20, cex = 0.5, col = 3)\n",
                "# mean correction\n",
                "points(mc_app, Y_app, xlim = xylim, ylim = xylim, pch = 20, cex = 0.5, col = 4)\n",
                "# quantile-quantile mapping\n",
                "points(qq_app, Y_app, xlim = xylim, ylim = xylim, pch = 20, cex = 0.5, col = 5)\n",
                "abline(b = 1, a = 0, col = \"red\")\n",
                "legend(\n",
                "  \"topleft\",\n",
                "  legend = c(\"X\", \"lm\", \"nn\", \"mc\", \"qq\"),\n",
                "  col = 1:5,\n",
                "  pch = 20\n",
                ")\n",
                "par(pty = \"s\") \n",
                "ylim <- range(c(X_app, lm_app, nn_app, mc_app, qq_app) -  Y_app)\n",
                "plot(X_app - Y_app, ylim = ylim, type = \"l\")\n",
                "lines(lm_app - Y_app, ylim = ylim, col = 2)\n",
                "lines(nn_app - Y_app, ylim = ylim, col = 3)\n",
                "lines(mc_app - Y_app, ylim = ylim, col = 4)\n",
                "lines(qq_app - Y_app, ylim = ylim, col = 5)\n",
                "abline(h = 0, col = \"red\")\n",
                "legend(\n",
                "  \"topleft\",\n",
                "  legend = c(\"X\", \"lm\", \"nn\", \"mc\", \"qq\"),\n",
                "  col = 1:5,\n",
                "  pch = 20\n",
                ")\n",
                "# distribution\n",
                "qqplot_lm <- qqplot(lm_app, Y_app, plot.it = FALSE)\n",
                "qqplot_nn <- qqplot(nn_app, Y_app, plot.it = FALSE)\n",
                "qqplot_mc <- qqplot(mc_app, Y_app, plot.it = FALSE)\n",
                "qqplot_qq <- qqplot(qq_app, Y_app, plot.it = FALSE)\n",
                "par(pty = \"s\")\n",
                "qqplot(X_app, Y_app, xlim = xylim, ylim = xylim, pch = 20, cex = 0.5, main = \"QQ-plot\")\n",
                "points(qqplot_lm$x, qqplot_lm$y, xlim = xylim, ylim = xylim, pch = 20, cex = 0.5, col = 2)\n",
                "points(qqplot_nn$x, qqplot_nn$y, xlim = xylim, ylim = xylim, pch = 20, cex = 0.5, col = 3)\n",
                "points(qqplot_mc$x, qqplot_mc$y, xlim = xylim, ylim = xylim, pch = 20, cex = 0.5, col = 4)\n",
                "points(qqplot_qq$x, qqplot_qq$y, xlim = xylim, ylim = xylim, pch = 20, cex = 0.5, col = 5)\n",
                "abline(b = 1, a = 0, col = \"red\")\n",
                "legend(\n",
                "  \"topleft\",\n",
                "  legend = c(\"X\", \"lm\", \"nn\", \"mc\", \"qq\"),\n",
                "  col = 1:5,\n",
                "  pch = 20\n",
                ")\n",
                "\n",
                "# test d'égalité des distribution (à développer si il y a le temps).\n",
                "ks.test(X_app, Y_app)\n",
                "ks.test(lm_app, Y_app)\n",
                "ks.test(nn_app, Y_app)\n",
                "ks.test(mc_app, Y_app)\n",
                "ks.test(qq_app, Y_app)\n"
            ]
        },
        {
            "cell_type": "markdown",
            "metadata": {},
            "source": [
                "#### Test\n",
                "Quelle est la méthode le plus performante sur la base de test ?\n"
            ]
        },
        {
            "cell_type": "code",
            "execution_count": null,
            "metadata": {},
            "outputs": [],
            "source": [
                "\n",
                "\n"
            ]
        },
        {
            "cell_type": "markdown",
            "metadata": {},
            "source": [
                "## Bias Corretion: only MOS\n",
                "#### Lecture des données\n"
            ]
        },
        {
            "cell_type": "code",
            "execution_count": null,
            "metadata": {},
            "outputs": [],
            "source": [
                "X <- tas_df[, \"IPSL-CM5A-LR_historical_r1i1p1\"]\n",
                "Y <- tas_df[, \"GHCND_orly\"]\n",
                "ina <- is.na(X) | is.na(Y)\n",
                "X <- X[!ina]\n",
                "Y <- Y[!ina]\n",
                "dates <- as.numeric(rownames(tas_df))\n",
                "dates <- dates[!ina]\n"
            ]
        },
        {
            "cell_type": "markdown",
            "metadata": {},
            "source": [
                "\n",
                "### Séparation en base d'apprentissage et base de test (calibration/validation)\n"
            ]
        },
        {
            "cell_type": "code",
            "execution_count": null,
            "metadata": {},
            "outputs": [],
            "source": [
                "iapp <- dates < 20000101\n",
                "X_app <- X[iapp]\n",
                "Y_app <- Y[iapp]\n",
                "X_test <- X[!iapp]\n",
                "Y_test <- Y[!iapp]\n"
            ]
        },
        {
            "cell_type": "markdown",
            "metadata": {},
            "source": [
                "\n",
                "### Comparaison entre X et Y\n"
            ]
        },
        {
            "cell_type": "code",
            "execution_count": null,
            "metadata": {},
            "outputs": [],
            "source": [
                "\n",
                "\n"
            ]
        },
        {
            "cell_type": "markdown",
            "metadata": {},
            "source": [
                "### Model Output Statistic\n",
                "\n",
                "#### simple mean correction\n",
                "\n",
                "Réaliser une correction de bias via la méthode de correction de la moyenne.\n"
            ]
        },
        {
            "cell_type": "code",
            "execution_count": null,
            "metadata": {},
            "outputs": [],
            "source": [
                "\n",
                "\n"
            ]
        },
        {
            "cell_type": "markdown",
            "metadata": {},
            "source": [
                "#### quantile-quantile correction\n",
                "\n",
                "Réaliser une correction de bias via la méthode quantile quantile.\n"
            ]
        },
        {
            "cell_type": "code",
            "execution_count": null,
            "metadata": {},
            "outputs": [],
            "source": [
                "\n",
                "\n"
            ]
        },
        {
            "cell_type": "markdown",
            "metadata": {},
            "source": [
                "### Summary plots\n",
                "#### Apprentissage\n",
                "Quelle est la méthode le plus performante sur la base d'apprentissage ?\n"
            ]
        },
        {
            "cell_type": "code",
            "execution_count": null,
            "metadata": {},
            "outputs": [],
            "source": [
                "\n",
                "\n"
            ]
        },
        {
            "cell_type": "markdown",
            "metadata": {},
            "source": [
                "#### Test\n",
                "Quelle est la méthode le plus performante sur la base de test ?\n"
            ]
        },
        {
            "cell_type": "code",
            "execution_count": null,
            "metadata": {},
            "outputs": [],
            "source": [
                "\n",
                "\n"
            ]
        },
        {
            "cell_type": "markdown",
            "metadata": {},
            "source": [
                "## Perfect Prognosis: Appliquer le downscaling appris sur les réanalyses aux simulations climatiques.\n",
                "\n",
                "Est-ce raisonnable ?\n"
            ]
        },
        {
            "cell_type": "code",
            "execution_count": null,
            "metadata": {},
            "outputs": [],
            "source": [
                "# X: IPSL-CM5A-LR_historical_r1i1p1, Y:GHCND_orly\n",
                "base_gcm <- data.frame(X = X_test, Y = Y_test)\n",
                "lm_gcm <- predict(lm_fit, newdata = base_gcm)\n",
                "nn_gcm <- numeric(length(Y_test))\n",
                "for(i in seq_along(nn_test)){\n",
                "  dist <- (base_app$X - X_test[i])^2\n",
                "  inn <- which.min(dist)\n",
                "  nn_gcm[i] <- base_app$Y[inn]\n",
                "}\n"
            ]
        },
        {
            "cell_type": "markdown",
            "metadata": {},
            "source": [
                "### Summary plots\n",
                "#### base de test\n"
            ]
        },
        {
            "cell_type": "code",
            "execution_count": null,
            "metadata": {},
            "outputs": [],
            "source": [
                "# A ne pas mettre\n",
                "# distribution\n",
                "qqplot_lm <- qqplot(lm_gcm, Y_test, plot.it = FALSE)\n",
                "qqplot_nn <- qqplot(nn_gcm, Y_test, plot.it = FALSE)\n",
                "par(pty = \"s\")\n",
                "qqplot(X_test, Y_test, xlim = xylim, ylim = xylim, pch = 20, cex = 0.5, main = \"QQ-plot\")\n",
                "points(qqplot_mc$x, qqplot_mc$y, xlim = xylim, ylim = xylim, pch = 20, cex = 0.5, col = 4)\n",
                "points(qqplot_qq$x, qqplot_qq$y, xlim = xylim, ylim = xylim, pch = 20, cex = 0.5, col = 5)\n",
                "points(qqplot_lm$x, qqplot_lm$y, xlim = xylim, ylim = xylim, pch = 20, cex = 0.5, col = 2)\n",
                "points(qqplot_nn$x, qqplot_nn$y, xlim = xylim, ylim = xylim, pch = 20, cex = 0.5, col = 3)\n",
                "abline(b = 1, a = 0, col = \"red\")\n",
                "legend(\n",
                "  \"topleft\",\n",
                "  legend = c(\"X\", \"lm\", \"nn\", \"mc\", \"qq\"),\n",
                "  col = 1:5,\n",
                "  pch = 20\n",
                ")\n",
                "ks.test(X_test, Y_test)\n",
                "ks.test(lm_test, Y_test)\n",
                "ks.test(nn_test, Y_test)\n"
            ]
        },
        {
            "cell_type": "markdown",
            "metadata": {},
            "source": "## Quelles améliorations pouvez-vous proposer pour améliorer les performances en downscaling ou en correction de biais ?\n"
        }
    ],
    "metadata": {
        "anaconda-cloud": "",
        "kernelspec": {
            "display_name": "R",
            "langauge": "R",
            "name": "ir"
        },
        "language_info": {
            "codemirror_mode": "r",
            "file_extension": ".r",
            "mimetype": "text/x-r-source",
            "name": "R",
            "pygments_lexer": "r",
            "version": "3.4.1"
        }
    },
    "nbformat": 4,
    "nbformat_minor": 1
}
