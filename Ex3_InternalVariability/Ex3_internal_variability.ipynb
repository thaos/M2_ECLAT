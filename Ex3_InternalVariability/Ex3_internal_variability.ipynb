{
    "cells": [
        {
            "cell_type": "markdown",
            "metadata": {},
            "source": [
                "This is an [R Markdown](http://rmarkdown.rstudio.com) Notebook. When you execute code within the notebook, the results appear beneath the code. Execute a chunk by clicking the *Run* button within the chunk or by placing your cursor inside it and pressing *Ctrl+Shift+Enter*. \n",
                "\n",
                "Add a new chunk by clicking the *Insert Chunk* button on the toolbar or by pressing *Ctrl+Alt+I*.\n",
                "\n",
                "When you save the notebook, an HTML file containing the code and output will be saved alongside it (click the *Preview* button or press *Ctrl+Shift+K* to preview the HTML file).\n",
                "\n",
                "The preview shows you a rendered HTML copy of the contents of the editor. Consequently, unlike *Knit*, *Preview* does not run any R code chunks. Instead, the output of the chunk when it was last run in the editor is displayed.\n",
                "\n",
                "## Objectifs\n",
                "Le but est d'illustrer l'effet de la variabilité climatique sur l'estimation de propriétés statistiques. Pour cela, nous utiliserons une simulation pi-Control  et une simulation historique du modèle CNRM-CM6-1-HR pour la variable température. Nous nous intéresserons à l'estimation de la moyenne et de la tendance linéaire.\n",
                "\n",
                "**Simulations pré-industrielles piControl**:\n",
                ">Pre-Industrial coupled atmosphere/ocean control run. Imposes non-evolving pre-industrial conditions, which may include prescribed atmospheric concentrations or non-evolving emissions of gases, aerosols or their precursors, as well as unperturbed land use\"\n",
                "\n",
                "\n",
                "## Lecture des données\n"
            ]
        },
        {
            "cell_type": "code",
            "execution_count": null,
            "metadata": {},
            "outputs": [],
            "source": [
                "pi_df <- readRDS(file = \"tas_pi.rds\")\n",
                "hist_df <- readRDS(file = \"tas_hist.rds\")\n",
                "time_pi <- pi_df$time\n",
                "tas_pi <- pi_df$tas\n",
                "time_hist <- hist_df$time\n",
                "tas_hist <- hist_df$tas\n",
                "\n",
                "yyyy_pi <- as.numeric(substring(gsub(\"-\", \"\", time_pi), 1, 4))\n",
                "yyyy_hist <- as.numeric(substring(gsub(\"-\", \"\", time_hist), 1, 4))\n"
            ]
        },
        {
            "cell_type": "markdown",
            "metadata": {},
            "source": [
                "## Sur les simulations piControl\n",
                "\n",
                "### Séries journalières\n",
                "Tracer la série temporelle des températures journalières\n"
            ]
        },
        {
            "cell_type": "code",
            "execution_count": null,
            "metadata": {},
            "outputs": [],
            "source": [
                "ylim = range(tas_pi)\n",
                "plot(yyyy_pi, tas_pi, col = \"grey\", pch = 20, cex = 0.5)\n"
            ]
        },
        {
            "cell_type": "markdown",
            "metadata": {},
            "source": [
                "### Combien d'années pour estimer la moyenne de temperature ?\n",
                "Calculer la moyenne de température en fonction du nombre de pas de temps pris en compte.\n"
            ]
        },
        {
            "cell_type": "code",
            "execution_count": null,
            "metadata": {},
            "outputs": [],
            "source": [
                "x <- seq_along(tas_pi)\n",
                "\n"
            ]
        },
        {
            "cell_type": "markdown",
            "metadata": {},
            "source": [
                "### Combien d'années pour estimer l'ecart-type de la temperature temperature ?\n",
                "\n",
                "Indice: la variance empirique de $X$ peut se calculer comme la moyenne des $X^2$ moins la moyenne au carré des $X$.\n"
            ]
        },
        {
            "cell_type": "code",
            "execution_count": null,
            "metadata": {},
            "outputs": [],
            "source": [
                "x <- seq_along(tas_pi)\n",
                "\n"
            ]
        },
        {
            "cell_type": "markdown",
            "metadata": {},
            "source": [
                "### Quelle est l'espérance de la tendance linéaire sur ces simulations ?\n",
                "\n",
                "### Combien de jours ou d'années faut-il pour converger vers la bonne valeur ?\n"
            ]
        },
        {
            "cell_type": "code",
            "execution_count": null,
            "metadata": {},
            "outputs": [],
            "source": [
                "x <- seq_along(tas_pi)\n",
                "yearend <- seq(365, length(x), by = 365)\n",
                "trend <- numeric(length = yearend)\n",
                "for(i in seq_along(trend)){\n",
                " trend[i] <- lm.fit( y = tas_pi[1:yearend[i]], x = cbind(1, x)[1:yearend[i], ])$coefficients[2]\n",
                "}\n",
                "# or\n",
                "# trend <- sapply(yearend), function(i) lm.fit( y = tas_pi[1:i], x = cbind(1, x)[1:i, ])$coefficients[2])\n",
                "plot(trend, type = \"l\")\n",
                "summary(trend[101:200])\n"
            ]
        },
        {
            "cell_type": "markdown",
            "metadata": {},
            "source": [
                "##  Comparaison entre simulations historiques et pré-industrielles de controle\n",
                "\n",
                "Les tendances linéaire estimées sur les simulations historiques sont-elles cohérentes avec les tendances estimées sur les simulations pré-industrielles?\n",
                "\n",
                "### Définition des periodes pour le calcul des tendances linéaires\n"
            ]
        },
        {
            "cell_type": "code",
            "execution_count": null,
            "metadata": {},
            "outputs": [],
            "source": [
                "nyear = 30 # Calcul des tendances linéaires sur 30 ans\n",
                "by = nyear / 2 # La tendance sur 30 ans est calculée tous les 15 ans\n",
                "y30pi <- c(seq(min(yyyy_pi), max(yyyy_pi) - nyear, by = by), max(yyyy_pi) - nyear + 1) # Année qui défini le début de la période pour laquelle la tendance est calculée.\n",
                "y30hist <- c(seq(min(yyyy_hist), max(yyyy_hist) - nyear, by = by), max(yyyy_hist) - nyear + 1) # Année qui défini le début de la période pour laquelle la tendance est calculée.\n"
            ]
        },
        {
            "cell_type": "markdown",
            "metadata": {},
            "source": [
                "\n",
                "### Comparaison des séries journalières\n"
            ]
        },
        {
            "cell_type": "code",
            "execution_count": null,
            "metadata": {},
            "outputs": [],
            "source": [
                "ylim = range(tas_pi, tas_hist)\n",
                "plot(yyyy_pi, tas_pi, col = \"grey\", pch = 20, cex = 0.5)\n",
                "points(yyyy_hist, tas_hist, col = \"black\", pch = 20, cex = 0.3)\n"
            ]
        },
        {
            "cell_type": "markdown",
            "metadata": {},
            "source": [
                "### Comparaison des séries annuelles\n",
                "Calculer les séries temporelles des moyennes de température annuelles pour la période pré-industrielle et la période historique. \n",
                "Tracer ces séries temporelles.\n"
            ]
        },
        {
            "cell_type": "code",
            "execution_count": null,
            "metadata": {},
            "outputs": [],
            "source": [
                "# séries temporelles des moyennes de température annuelles pour la période pré-industrielle\n",
                "tas_byyear_pi <- \n",
                "# séries temporelles des moyennes de température annuelles pour la période historique\n",
                "tas_byyear_hist <- \n",
                "\n",
                "yyyy_pi_u <- unique(yyyy_pi)\n",
                "yyyy_hist_u <- unique(yyyy_hist)\n",
                "\n",
                "ylim <- range(tas_byyear_pi, tas_byyear_hist)\n",
                "plot(yyyy_pi_u, tas_byyear_pi, col = \"grey\", pch = 20, cex = 0.5)\n",
                "points(yyyy_hist_u, tas_byyear_hist, col = \"black\", pch = 20, cex = 0.5)\n"
            ]
        },
        {
            "cell_type": "markdown",
            "metadata": {},
            "source": "### Calcul des tendances sur des périodes de 30 ans à partir des séries annuelles et les tracer sur les series temporelles.\n"
        },
        {
            "cell_type": "code",
            "execution_count": null,
            "metadata": {},
            "outputs": [],
            "source": [
                "ylim <- range(tas_byyear_hist, tas_byyear_pi, na.rm = TRUE)\n",
                "par(mfrow = c(2, 1))\n",
                "plot(yyyy_pi_u, tas_byyear_pi, ylim = ylim)\n",
                "trend_pi <-\n",
                "\n",
                "\n",
                "plot(yyyy_hist_u, tas_byyear_hist, ylim = ylim)\n",
                "trend_hist <- \n",
                "  \n"
            ]
        },
        {
            "cell_type": "markdown",
            "metadata": {},
            "source": [
                "### Comparaison des tendances entre simulations historiques et pré-industrielles.\n",
                "\n",
                "Quelles sont les périodes pour lesquelles il est peu probable que les tendances des simulations historiques ne soient dues qu'à la variabilité internes ? Peut on quantifier le \"peu probable\"? \n"
            ]
        },
        {
            "cell_type": "code",
            "execution_count": null,
            "metadata": {},
            "outputs": [],
            "source": [
                "ic=quantile(trend_pi, probs = c(0.05, 0.95))\n",
                "plot(0, xlim = range(trend_pi, trend_hist), ylim = c(0, 1.2), yaxt = 'n', bty = 'n', pch = '', ylab = '', xlab = 'trend')\n",
                "rect(ic[1], 0, ic[2], 1, col = \"grey\", border = NA)\n",
                "segments(x0 = trend_pi, y0 = 0, y1 =  0.5, lwd = 3, col = \"orange\")\n",
                "segments(x0 = trend_hist, y0 = 0, y1 =  0.5, lwd = 3)\n",
                "text(trend_hist, 0.7, labels = y30hist, srt = 90, pos = 3)\n"
            ]
        },
        {
            "cell_type": "markdown",
            "metadata": {},
            "source": [
                "\n",
                "### Comparaison  des séries obtenus par moyenne glissante.\n"
            ]
        },
        {
            "cell_type": "code",
            "execution_count": null,
            "metadata": {},
            "outputs": [],
            "source": [
                "ma <- function(x, n = 20){filter(x, rep(1 / n, n), sides = 2)}\n",
                "yyyy_pi_ma <- ma(yyyy_pi_u )\n",
                "tas_ma_pi <- ma(tas_byyear_pi)\n",
                "yyyy_hist_ma <- ma(yyyy_hist_u)\n",
                "tas_ma_hist <- ma(tas_byyear_hist)\n",
                "ylim <- range(tas_ma_hist, tas_ma_pi, na.rm = TRUE)\n",
                "plot(yyyy_pi_ma, tas_ma_pi, col = \"grey\", pch = 20, cex = 0.5, ylim = ylim)\n",
                "points(yyyy_hist_ma, tas_ma_hist, col = \"black\", pch = 20, cex = 0.5, ylim = ylim)\n"
            ]
        },
        {
            "cell_type": "markdown",
            "metadata": {},
            "source": "### Calcul des tendances sur des serie obtenues par moyenne glissante.\n"
        },
        {
            "cell_type": "code",
            "execution_count": null,
            "metadata": {},
            "outputs": [],
            "source": [
                "ylim <- range(tas_ma_hist, tas_ma_pi, na.rm = TRUE)\n",
                "par(mfrow = c(2, 1))\n",
                "plot(yyyy_pi_ma, tas_ma_pi, ylim = ylim)\n",
                "trend_pi <- \n",
                "\n",
                "\n",
                "plot(yyyy_hist_ma, tas_ma_hist, ylim = ylim)\n",
                "trend_hist <- \n"
            ]
        },
        {
            "cell_type": "markdown",
            "metadata": {},
            "source": [
                "### Comparaison des tendances entre simulations historiques et pré-industrielles.\n",
                "\n",
                "Quelles sont les périodes pour lesquelles il est peu probable que les tendances des simulations historiques ne soient dûes qu'à la variabilité interne? Peut on quantifier le \"peu probable\"?\n"
            ]
        },
        {
            "cell_type": "code",
            "execution_count": null,
            "metadata": {},
            "outputs": [],
            "source": [
                "\n",
                "\n"
            ]
        },
        {
            "cell_type": "markdown",
            "metadata": {},
            "source": [
                "### Analogies avec les testes d'hypothèses statistiques.\n",
                "\n",
                "1) Modélisation statistique: e.g. réponse aux forçages externes + variabilité interne <=> tendance déterministe + bruit\n",
                "\n",
                "2) Formulation de l'hypothèse nulle H0: e.g. la réponse aux forçages externes est constante par rapport aux pré-industrielle, en particulier entre 1990 et 2020 => la tendance linéaire est nulle entre 1990 et 2020\n",
                "\n",
                "3) Formulation de l'hypothèse alternative H1: e.g. la tendance linéaire est différente de 0 entre 1990 et 2020.\n",
                "\n",
                "4) Choix et calcul de la statistique de test: e.g coefficient de régression linéaire calculé sur les simulations historiques pour la période 1990-2020.\n",
                "\n",
                "5) Estimation de la distribution sous H0 de la statistique de test: e.g. sous H0, les simulations historiques doivent se comporter comme les simulations de contrôle pré-industrielles donc la distribution de la statistique de test peut être approximée par la distribution empirique des tendances linéaires sur 30 ans mesurées sur les simulations pré-industrielles.\n",
                "\n",
                "6) Calculer sous l'hypothèse H0 la probabilités d'avoir une statistique de test plus extrême que celle observée (i.e. la p-value)\n",
                "\n",
                "7) Décider ou non de rejeter le test en fonction du risque alpha que l'on est prêt à accepter. Le risque alpha est le risque que l'on se trompe si on rejette H0 (à tort). En statistique, on ne contrôle pas (en général) le risque que l'on se trompe si on décide de ne pas rejeter H0.  \n"
            ]
        }
    ],
    "metadata": {
        "anaconda-cloud": "",
        "kernelspec": {
            "display_name": "R",
            "langauge": "R",
            "name": "ir"
        },
        "language_info": {
            "codemirror_mode": "r",
            "file_extension": ".r",
            "mimetype": "text/x-r-source",
            "name": "R",
            "pygments_lexer": "r",
            "version": "3.4.1"
        }
    },
    "nbformat": 4,
    "nbformat_minor": 1
}
