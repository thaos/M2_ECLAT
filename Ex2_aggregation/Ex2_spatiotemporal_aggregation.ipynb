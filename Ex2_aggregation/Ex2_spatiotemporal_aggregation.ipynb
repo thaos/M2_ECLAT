{
    "cells": [
        {
            "cell_type": "markdown",
            "metadata": {},
            "source": [
                "This is an [R Markdown](http://rmarkdown.rstudio.com) Notebook. When you execute code within the notebook, the results appear beneath the code. Execute a chunk by clicking the *Run* button within the chunk or by placing your cursor inside it and pressing *Ctrl+Shift+Enter*. \n",
                "\n",
                "Add a new chunk by clicking the *Insert Chunk* button on the toolbar or by pressing *Ctrl+Alt+I*.\n",
                "\n",
                "When you save the notebook, an HTML file containing the code and output will be saved alongside it (click the *Preview* button or press *Ctrl+Shift+K* to preview the HTML file).\n",
                "\n",
                "The preview shows you a rendered HTML copy of the contents of the editor. Consequently, unlike *Knit*, *Preview* does not run any R code chunks. Instead, the output of the chunk when it was last run in the editor is displayed.\n",
                "\n",
                "## Objectifs\n",
                "Le but est d'illustrer les changements dans les distributions d'une série temporelle en fonction du type d'aggrégation spatio-temporelle utilisé.\n",
                "\n",
                "Pour cela, nous utilisons les simulations pi-control, au pas de temps journalier, du modèle CNRM-CM6-1-HR réalisées lors de l'exercice CMIP6. Nous y avons extrait les variables de température et de précipitation pour la zone géographique suivante: de 0 à 5 degrés de longitude et  de 45.18 à 49.68 degrés de latitude.\n",
                "\n",
                "Spatialement, nous agrégeons les données pour des patchs de différentes tailles (1x1, 7x5, 11x9 points de grille) centrés autours du point de grille situé à 2.5 degrés de longitude et 47.68 degrés de latitude. L'agrégation est réalisée soit en prenant la moyenne ou le maximum sur l'ensemble des points de grille du patch.\n",
                "\n",
                "Temporellement, les données sont agrégés soit sur la journée du 15 juillet, soit sur le mois de juillet dans son ensemble, soit sur l'ensemble de l'année. L'agrégation est réalisée soit en prenant la moyenne ou le maximum sur l'ensemble des pas de temps de la période d'intérêt.\n",
                "\n",
                "Les données sont tout d'abord agrégées spatialement puis temporellement. Ainsi, un type d'agrégation spatio-temporelle donne une série temporelle univariée au pas de temps annuel. Pour un couple d'agrégateurs spatiales (moyenne/maximum) et temporels (moyenne/maximum), les séries temporelles sont stockées sous forme d'une array avec les dimensions suivantes: temps, zone d'agrégation et période d'agrégation.  \n",
                "\n",
                "Les distributions peuvent être représentées sous forme d'histogrammes (fonction *hist*), de densités estimées par des méthodes à noyau (fonction *density*) ou par des fonctions de répartition empirique (fonction *ecdf*). \n",
                "\n",
                "### Chargement des packages\n"
            ]
        },
        {
            "cell_type": "code",
            "execution_count": null,
            "metadata": {},
            "outputs": [],
            "source": [
                "# A installer avec install.packages(\"extRemes\") \n",
                "library(extRemes)\n"
            ]
        },
        {
            "cell_type": "markdown",
            "metadata": {},
            "source": [
                "\n",
                "### Lecture des données\n"
            ]
        },
        {
            "cell_type": "code",
            "execution_count": null,
            "metadata": {},
            "outputs": [],
            "source": [
                "tas_stagg <- readRDS(file = \"tas_stagg.rds\")\n",
                "pr_stagg <- readRDS(file = \"pr_stagg.rds\")\n",
                "tas <- readRDS(file = \"tas.rds\")\n",
                "pr <- readRDS(file = \"pr.rds\")\n",
                "dates <- dimnames(tas)[[3]]\n",
                "str(tas)\n",
                "\n",
                "tas_smean_tmean <- tas_stagg[[1]][[1]]  \n",
                "tas_smean_tmax <- tas_stagg[[1]][[2]]  \n",
                "tas_smax_tmean <- tas_stagg[[2]][[1]]  \n",
                "tas_smax_tmax <- tas_stagg[[2]][[2]]  \n",
                "str(tas_smean_tmean)\n",
                "\n",
                "pr_smean_tmean <- pr_stagg[[1]][[1]]  \n",
                "pr_smean_tmax <- pr_stagg[[1]][[2]]  \n",
                "pr_smax_tmean <- pr_stagg[[2]][[1]]  \n",
                "pr_smax_tmax <- pr_stagg[[2]][[2]]\n",
                "\n",
                "zones <- dimnames(tas_smax_tmax)[[2]]\n",
                "periods <- dimnames(tas_smax_tmax)[[3]]\n",
                "lon <- as.numeric(rownames(tas))\n",
                "lat <- as.numeric(colnames(tas))\n"
            ]
        },
        {
            "cell_type": "markdown",
            "metadata": {},
            "source": [
                "\n",
                "### Tracer la série temporelle des données aggrégées\n"
            ]
        },
        {
            "cell_type": "code",
            "execution_count": null,
            "metadata": {},
            "outputs": [],
            "source": [
                "# Choisir le type de série temporelle: variable/agrégation spatial/agrégation temporelle\n",
                "y <- tas_smean_tmean\n",
                "\n",
                "ylim <- range(y)\n",
                "par(mfrow = c(3, 3))\n",
                "for(i in 1:3){\n",
                "  for(j in 1:3){\n",
                "    plot(y[, i, j], ylim = ylim, type = \"l\", main = paste(\"spatial:\", zones[i], \"temporal:\", periods[j])) \n",
                "}}\n"
            ]
        },
        {
            "cell_type": "markdown",
            "metadata": {},
            "source": [
                "### Visualisation des distribution\n",
                "\n",
                "Visualiser le distributions des variables agrégées à l'aide des fonctions R: hist, density et ecdf\n"
            ]
        },
        {
            "cell_type": "code",
            "execution_count": null,
            "metadata": {},
            "outputs": [],
            "source": [
                "# Histogrammes\n",
                "\n",
                "breaks <- hist(c(y), breaks = 30, plot = FALSE)$breaks # Définition des classes de valeur.\n",
                "par(mfrow = c(3, 3))\n",
                "for(i in 1:3){\n",
                "  for(j in 1:3){\n",
                "    hist(y[, i, j], breaks = breaks, freq = FALSE, main = paste(\"spatial:\", zones[i], \"temporal:\", periods[j])) \n",
                "}}\n"
            ]
        },
        {
            "cell_type": "markdown",
            "metadata": {},
            "source": "\n"
        },
        {
            "cell_type": "code",
            "execution_count": null,
            "metadata": {},
            "outputs": [],
            "source": [
                "# Kernel density estimation.\n",
                "\n",
                "xrange <- range(c(y))\n",
                "par(mfrow = c(3, 3))\n",
                "for(i in 1:3){\n",
                "  for(j in 1:3){\n",
                "\n",
                "}}\n"
            ]
        },
        {
            "cell_type": "markdown",
            "metadata": {},
            "source": "\n"
        },
        {
            "cell_type": "code",
            "execution_count": null,
            "metadata": {},
            "outputs": [],
            "source": [
                "# Fonction de répartition empirique\n",
                "xrange <- range(c(y))\n",
                "par(mfrow = c(3, 3))\n",
                "for(i in 1:3){\n",
                "  for(j in 1:3){\n",
                "   \n",
                "}}\n"
            ]
        },
        {
            "cell_type": "markdown",
            "metadata": {},
            "source": [
                "## Convergence en loi\n",
                "\n",
                "### Théorème Central Limite.\n",
                "\n",
                "Si $X_1,X_2,\\ldots,X_n$ sont des variables aléatoires réelles indépendantes de même loi de probabilité, d'espérance $\\mu$ et de variance $\\sigma^2$ alors, lorsque $n$ est suffisamment grand :\n",
                "\n",
                "la variable aléatoire :\n",
                "$$ S_n = X_1+X_2+\\ldots+X_n$$\n",
                "suit approximativement une loi normale d'espérance $\\mu \\times n$ et d'écart-type $\\sigma\\sqrt n$, notée :\n",
                "$$ \\mathcal N(\\mu n,\\sigma\\sqrt n)$$\n",
                "\n",
                "source : [wikiversity](https://fr.wikiversity.org/wiki/Th%C3%A9or%C3%A8me_central_limite)\n",
                "\n",
                "\n",
                "**Exercice :** Sur les graphiques représentant les distributions empiriques, tracer les courbes de densité et de fonction de répartition sous approximation gaussienne. Les paramètres de la loi gaussienne peuvent être estimés par la méthodes des moments, i.e. la moyenne est estimée par la moyenne empirique et la variance par la variance empirique. \n",
                "\n",
                "### Théorème de la valeur extrême.\n",
                "\n",
                "Soit $X_1,X_2\\ldots, X_n\\ldots$ une séquence de variables indépendantes et identiquement distribuées et $M_n=\\max\\{X_1,\\ldots,X_n\\}$. Si une séquence de paires de nombres réels $(a_n, b_n)$ existe telle que $a_n>0$ et\n",
                "$$\\lim_{n \\to \\infty}P\\left(\\frac{M_n-b_n}{a_n}\\leq x\\right) = F(x)$$,\n",
                "où $F$ est une fonction de distribution non dégénérée, alors la distribution limite $F$ appartient à la famille des lois de Gumbel, lois de Fréchet, ou des lois de Weibull. Ces familles peuvent être regroupées dans la classe des lois d'extremum généralisées de fonction de répartition:\n",
                "\n",
                "$$F(x;\\mu,\\sigma,\\xi) = \\exp\\left\\{-\\left[1+\\xi\\left(\\frac{x-\\mu}{\\sigma}\\right)\\right]_+^{-1/\\xi}\\right\\}$$\n",
                "\n",
                "avec\n",
                "$\\left(1+\\xi(x-\\mu)/\\sigma \\right)_+=\\max\\left( 0 , 1+\\xi(x-\\mu)/\\sigma \\right)$\n",
                "où $\\mu\\in\\mathbb{R}$ est un paramètre de position, $\\sigma > 0$ un paramètre de dispersion et $\\xi\\in\\mathbb{R}$ un paramètre de forme appelé ''indice des valeurs extrêmes''.\n",
                "\n",
                "\n",
                "source : [wikipedia](https://fr.wikipedia.org/wiki/Th%C3%A9or%C3%A8me_de_Fisher-Tippett-Gnedenko)\n",
                "\n",
                "\n",
                "**Exercice :** Sur les graphiques représentant les distributions empiriques, tracer les courbes de densité et de fonction de répartition sous approximation de la loi GEV. Les paramètres de la loi GEV peuvent être estimés via la fonction 'fevd' du package 'extRemes'. La densité et la fonction de répartition de la loi GEV peuvent être respectivement calculées via les fonctions 'devd' et 'pevd' de ce même package.\n",
                "\n",
                "**Exercice :** Les distributions observées ressemblent-elles aux distributions théoriques ? Sinon pourquoi ?\n",
                "\n",
                "\n",
                "### Theorie vs Pratique: hypothese i.i.d (independants et identiquement distribués)\n",
                "L'hypothèse i.i.d est elle réaliste ?\n",
                "\n",
                "**Exercice :**\n",
                "\n",
                "- Calculer la moyenne et la variance en chaque point de grille du jeu de donnée initial et les représenter graphiquement avec la fonction *image.plot* du package *fields*.\n"
            ]
        },
        {
            "cell_type": "code",
            "execution_count": null,
            "metadata": {},
            "outputs": [],
            "source": [
                "# pour la moyenne\n",
                "map_mean <- \n",
                "fields::image.plot(lon, lat, map_mean)\n",
                "\n",
                "# pour la variance\n",
                "map_variance <- \n",
                "fields::image.plot(lon, lat, map_variance)\n"
            ]
        },
        {
            "cell_type": "markdown",
            "metadata": {},
            "source": [
                "- Calculer la matrice des corrélation entre les différents points de grille du jeu de donnée initial et représenter sous forme de carte la corrélation d'un point de grille avec tous les autres.\n",
                "\n",
                "La matrice de des corrélations peut se calculer avec la fonction *cor*.\n"
            ]
        },
        {
            "cell_type": "code",
            "execution_count": null,
            "metadata": {},
            "outputs": [],
            "source": [
                "tas_matrix <- matrix(aperm(tas, c(3, 1, 2)), ncol = length(lon) * length(lat))\n",
                "tas_cor <- \n",
                "# Correlation with the first grid point\n",
                "igridpoint <- 1\n",
                "fields::image.plot(lon, lat, ))\n"
            ]
        },
        {
            "cell_type": "markdown",
            "metadata": {},
            "source": [
                "- Calculer les corrélations temporelles pour chaque point de grille du jeu de donnée initial via la fonction *acf* de R. \n",
                "\n"
            ]
        },
        {
            "cell_type": "code",
            "execution_count": null,
            "metadata": {},
            "outputs": [],
            "source": [
                "par(mfrow = c(11, 10))\n",
                "for(i in 1:11){\n",
                "  for(j in 1:10){\n",
                "    plot( , main = paste(\"spatial:\", zones[i], \"temporal:\", periods[j]))\n",
                "}}\n"
            ]
        },
        {
            "cell_type": "markdown",
            "metadata": {},
            "source": [
                "\n",
                "\n"
            ]
        }
    ],
    "metadata": {
        "anaconda-cloud": "",
        "kernelspec": {
            "display_name": "R",
            "langauge": "R",
            "name": "ir"
        },
        "language_info": {
            "codemirror_mode": "r",
            "file_extension": ".r",
            "mimetype": "text/x-r-source",
            "name": "R",
            "pygments_lexer": "r",
            "version": "3.4.1"
        }
    },
    "nbformat": 4,
    "nbformat_minor": 1
}
