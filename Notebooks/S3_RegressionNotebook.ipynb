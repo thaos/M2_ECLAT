{
    "cells": [
        {
            "cell_type": "markdown",
            "metadata": {},
            "source": [
                "#################\n",
                "#################\n",
                "Date january 2021   \n",
                "Author philippe.naveau@lsce.ipsl.fr \n",
                "\n",
                "######################\n",
                "Removing old objects before starting the class\n"
            ]
        },
        {
            "cell_type": "code",
            "execution_count": null,
            "metadata": {},
            "outputs": [],
            "source": [
                "rm(list=ls(all=TRUE))\n",
                "set.seed(2018)\n"
            ]
        },
        {
            "cell_type": "markdown",
            "metadata": {},
            "source": [
                "######################\n",
                "SAMPLING WITH R \n",
                "######################\n"
            ]
        },
        {
            "cell_type": "code",
            "execution_count": null,
            "metadata": {},
            "outputs": [],
            "source": [
                "noms<-as.character(c())\n",
                "draw<-sample(noms,1)\n",
                "print(draw)\n"
            ]
        },
        {
            "cell_type": "markdown",
            "metadata": {},
            "source": [
                "######################\n",
                "### HISTOGRAMS and density\n",
                "######################\n"
            ]
        },
        {
            "cell_type": "code",
            "execution_count": null,
            "metadata": {},
            "outputs": [],
            "source": [
                "m<-1000\n",
                "df <-5\n",
                "sample1 <- rnorm(m)\n",
                "sample2 <- rt(m, df=df)   # * sqrt((df-2)/ df)\n",
                "cat(\"\\n sample 1: mean  =\", round(mean(sample1),2), \"\\t standard deviation=\",round(sd(sample1),2))\n",
                "cat(\"\\n sample 2: mean  =\", round(mean(sample2),2), \"\\t standard deviation=\",round(sd(sample2),2))\n",
                "\n",
                "\n",
                "hist(sample2,probability = T,  nclass=20, main = \"Normal (blue) & student (red)\",col=\"grey\", lwd=3, ylim=c(0,.45) );box();grid(lwd = 3)\n",
                "lines(density(sample1),col=\"blue\", lwd=3 )\n",
                "lines(density(sample2),col=\"red\", lwd=3 )\n"
            ]
        },
        {
            "cell_type": "markdown",
            "metadata": {},
            "source": [
                "######################\n",
                "### Home work 1 QQ PLOT \n",
                "######################\n",
                "- 1) Simulate from an exponential distribution a sample of size n=500\n",
                "- 2) Apply its own cdf to the sample itself \n",
                "- 3) Repeat 1) and 2) for a Gaussian with unit mean and sdev of 2 \n",
                "- 4) plot the histogram of the the sample from step 2, do the same from the sample from step 3 \n",
                "- 5) order the sample from step 2, order the sample from step 3, and do scatter plot \n",
                "- 6) replace the exponential by an uniform in step 1, and repeat 4. \n",
                "- 7) conclusions? \n",
                "\n",
                "\n",
                "\n",
                "######################\n",
                "### Laws properties  \n",
                "######################\n",
                "- 1) Simulate from an unit-mean exponential distribution a sample, say X,  of size n=500\n",
                "- 2) Plot the sample\n",
                "- 3) Threshold the sample X by only taking the value above its median, and substract the median, plot the new sample\n",
                "- 4) Compare the histogram and the densities of the two samples\n",
                " \n",
                " -5) Repeat steps 1-4, but with an uniform distribution\n",
                " - 6) Repeat steps 1-4, but with a standardized normal distribution\n",
                " \n",
                " \n",
                "\n",
                "\n",
                "######################\n",
                "LINEAR REGRESSION\n",
                "######################\n",
                "Creating a simulated example  with the notations\n",
                "$$Y = \\beta X + \\sigma * \\epsilon$$\n",
                "where the regression coefficient vector $\\beta$ is unknown and the covariates (explanotory variables) are given. \n",
                "The observational noise is represented by $\\sigma * \\epsilon$. \n",
                "The inferential objective is to find $\\beta$ given $X$. \n"
            ]
        },
        {
            "cell_type": "code",
            "execution_count": null,
            "metadata": {},
            "outputs": [],
            "source": [
                "n<- 100 # sample size\n",
                "X1 <- seq(from=0,to=1,length=n)\n",
                "X2<-X1*X1\n",
                "sigma<-.1; noise <- sigma*rnorm(n) # iid random variable with variance sigma^2\n",
                "\n",
                "Y <- 2 + 0.5 * X1 + X2  + noise\n",
                "\n",
                "YX<-as.data.frame(cbind(Y,X1,X2));names(YX)<-c(\"Y\",\"x1\",\"x2\")\n",
                "pairs(YX)\n"
            ]
        },
        {
            "cell_type": "markdown",
            "metadata": {},
            "source": [
                "\n",
                "Regressing only with respect to X1\n"
            ]
        },
        {
            "cell_type": "code",
            "execution_count": null,
            "metadata": {},
            "outputs": [],
            "source": [
                "    reg1 <- lm(Y ~  X1, data=YX) # lm(Y ~  poly(X1,2), data=YX)\n",
                "    summary(reg1)\n",
                "\t\tpar(mfrow=c(1,2))\n",
                "\t\tplot(X1,Y, xlab=\"x1\",ylab=\"y\", col=\"grey\")\n",
                "\t\tlines(X1, 2 + 0.5 * X1+ X2, lwd=3)\n",
                "\t\tlines(X1, fitted(reg1), lty=3, col=\"blue\", lwd=3)\n",
                "\t\t\n",
                "\t\tplot(X2,Y, xlab=\"x2\",ylab=\"y\", col=\"grey\")\n",
                "    lines(X2, 2 + 0.5 * X1+ X2, lwd=3)\n",
                "\t\tlines(X2, fitted(reg1), lty=3, col=\"blue\", lwd=3)\n"
            ]
        },
        {
            "cell_type": "markdown",
            "metadata": {},
            "source": [
                "--------------------------\n",
                "HOME WORK: REGRESS ON X2 \n",
                "\n",
                "\n",
                "\n",
                "-------------------------\n",
                "REGRESSION ON X1 AND X2\n"
            ]
        },
        {
            "cell_type": "code",
            "execution_count": null,
            "metadata": {},
            "outputs": [],
            "source": [
                "    reg1 <- lm(Y ~  X1, data=YX)  \n",
                "\t\treg2 <- lm(Y ~  X2, data=YX) \n",
                "\t\treg12 <- lm(Y ~  X1+X2, data=YX) \n",
                "\t\tregPoly <- lm(Y ~  poly(X1,2), data=YX)\n",
                "\t\tsummary(reg12)\n",
                "\t\tsummary(regPoly)\n"
            ]
        },
        {
            "cell_type": "markdown",
            "metadata": {},
            "source": [
                "\n",
                "\n"
            ]
        },
        {
            "cell_type": "code",
            "execution_count": null,
            "metadata": {},
            "outputs": [],
            "source": [
                "plot(X1,Y, xlab=\"x1\",ylab=\"y\",col=\"grey\")\n",
                "lines(X1, 2 + 0.5 * X1 + X2, lwd=3)\n",
                "lines(X1, fitted(reg12), lty=3, col=\"red\", lwd=3)\n",
                "\n",
                "plot(X2,Y, xlab=\"x2\",ylab=\"y\",col=\"grey\")\n",
                "lines(X2, 2 + 0.5 * X1 + X2, lwd=3)\n",
                "lines(X2, fitted(reg12), lty=3, col=\"red\", lwd=3)\n"
            ]
        },
        {
            "cell_type": "markdown",
            "metadata": {},
            "source": [
                "-----------------------------\n",
                "Checking the model hypothesis\n"
            ]
        },
        {
            "cell_type": "code",
            "execution_count": null,
            "metadata": {},
            "outputs": [],
            "source": [
                "\tqqnorm(resid(reg1), xlab=\"regression with X1\", xlim=c(-3,3),ylim = c(-0.33, 0.33))\n",
                "\tqqline(resid(reg1))\n",
                "\t\n",
                "\t\tqqnorm(resid(reg2), xlab=\"regression with X2\", xlim=c(-3,3),ylim = c(-0.33, 0.33))\n",
                "\tqqline(resid(reg2))\n",
                "\t\n",
                "\t\tqqnorm(resid(reg12), xlab=\"regression with X1 and X2\", xlim=c(-3,3),ylim = c(-0.33, 0.33))\n",
                "\tqqline(resid(reg12))\n",
                "\t\n",
                "\tqqnorm(resid(regPoly), xlab=\"regression with poly(X1,2)\", xlim=c(-3,3),ylim = c(-0.33, 0.33))\n",
                "\tqqline(resid(regPoly))\n"
            ]
        },
        {
            "cell_type": "markdown",
            "metadata": {},
            "source": "\n"
        }
    ],
    "metadata": {
        "anaconda-cloud": "",
        "kernelspec": {
            "display_name": "R",
            "langauge": "R",
            "name": "ir"
        },
        "language_info": {
            "codemirror_mode": "r",
            "file_extension": ".r",
            "mimetype": "text/x-r-source",
            "name": "R",
            "pygments_lexer": "r",
            "version": "3.4.1"
        }
    },
    "nbformat": 4,
    "nbformat_minor": 1
}
