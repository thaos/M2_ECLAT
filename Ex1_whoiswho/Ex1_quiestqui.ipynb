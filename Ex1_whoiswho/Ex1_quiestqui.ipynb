{
    "cells": [
        {
            "cell_type": "markdown",
            "metadata": {},
            "source": [
                "This is an [R Markdown](http://rmarkdown.rstudio.com) Notebook. When you execute code within the notebook, the results appear beneath the code. Execute a chunk by clicking the *Run* button within the chunk or by placing your cursor inside it and pressing *Ctrl+Shift+Enter*. \n",
                "\n",
                "Add a new chunk by clicking the *Insert Chunk* button on the toolbar or by pressing *Ctrl+Alt+I*.\n",
                "\n",
                "When you save the notebook, an HTML file containing the code and output will be saved alongside it (click the *Preview* button or press *Ctrl+Shift+K* to preview the HTML file).\n",
                "\n",
                "The preview shows you a rendered HTML copy of the contents of the editor. Consequently, unlike *Knit*, *Preview* does not run any R code chunks. Instead, the output of the chunk when it was last run in the editor is displayed.\n",
                "\n",
                "### Objectifs\n",
                "Dans le fichiers \"Ex1_tas_df_wonames.rds\" se trouvent stockées dans une matrice 11 séries temporelles de température moyenne journalière pour la période 1979-2005. Chaque ligne de la matrice correspond à une date. les 29 févriers ont été enlevés par soucis de simplicité. Chaque colonne correspond à une série temporelle. Elles sont extraites des jeux de données suivantes:\n",
                "\n",
                "  - les simulations historiques issues de l'exercice CMIP5 réalisées par le modèle CNRM-CM5 pour le membre r1i1p1\n",
                "  \n",
                "  - les simulations historiques issues de l'exercice CMIP5 réalisées par le modèle CNRM-CM5 pour le membre r2i1p1\n",
                "\n",
                "  - les simulations historiques issues de l'exercice CMIP5 réalisées par le modèle IPSL-CM5A-LR pour le membre r1i1p1\n",
                "\n",
                "  - les simulations historiques issues de l'exercice CMIP5 réalisées par le modèle IPSL-CM5A-LR pour le membre r2i1p1\n",
                "\n",
                "  - les simulations historiques issues de l'exercice EUROCORDEX réalisées à une résolution de 0.44 degrés par le modèle CNRM-ALADIN53_v1 forcé par le modèle globale CNRM-CERFACS-CNRM-CM5 pour le membre r2i1p1\n",
                "\n",
                "  - les simulations historiques issues de l'exercice EUROCORDEX  réalisées à une résolution de 0.11 degrés par le modèle CNRM-ALADIN53_v1 forcé par le modèle globale CNRM-CERFACS-CNRM-CM5 pour le membre r2i1p1\n",
                "\n",
                "  - les réanalyses ERA5\n",
                "\n",
                "  - les réanalyses NCEP\n",
                "\n",
                "  - le produit d'observations EOBS sur une grille à 0.25 degrés\n",
                "\n",
                "  - le produit d'observations EOBS sur une grille à 0.1 degrés\n",
                "\n",
                "  - les observations de la station d'Orly issues du réseau Global Historical Climatology Network\n",
                "\n",
                "Pour les modèles, les réanalyses ou les produits grillés, les séries temporelles proviennent du point de grille le plus proche de Paris.\n",
                "\n",
                "Les séries temporelles sont données dans le désordre et l'objectif est de retrouver, dans la mesure du possible, le jeu de données dont elles sont extraites.\n",
                "\n",
                "Pour cela, il vous faudra vous renseigner sur ces jeux de données et identifier les différentes caractéristiques (statistiques) qui vous permettront de les différencier. Il n'y a peut être pas de solution à ce problème, l'objectif réel de cet exercice est:\n",
                "\n",
                "1) d'illustrer les disparités entre jeux de données représentant le \"même\" objet: ici, la température au plus proche de Paris.\n",
                "\n",
                "2) vous familiariser avec la manipulation des jeux de données sous R. \n",
                "\n",
                "Indice: il doit être facile de séparer les jeux construits à partir d'observations des simulations des modèles climatiques. Pourquoi ?\n",
                "\n",
                "\n",
                "\n",
                "### Lecture des données\n"
            ]
        },
        {
            "cell_type": "code",
            "execution_count": null,
            "metadata": {},
            "outputs": [],
            "source": [
                "tas_df <- readRDS(\"Ex1_tas_df_wonames.rds\")\n",
                "dates <- rownames(tas_df)\n",
                "yyyy <- substring(dates, 1, 4)\n",
                "mmdd <- substring(dates, 5, 8)\n"
            ]
        },
        {
            "cell_type": "markdown",
            "metadata": {},
            "source": [
                "## Calcul des quantités d'intérêt\n",
                "\n",
                "### Calcul des moyennes annuelles\n"
            ]
        },
        {
            "cell_type": "code",
            "execution_count": null,
            "metadata": {},
            "outputs": [],
            "source": [
                "# Initialisation\n",
                "uyyyy <- unique(yyyy)\n",
                "yearmean <- matrix(data = NA,  nrow = length(uyyyy), ncol = ncol(tas_df))\n",
                "# Calcul des moyennes annuelles pour chaque série temporelle.\n",
                "# la fonction \"mean\" de retourne la moyenne des valeurs contenues dans un vecteur. \n",
                "\n",
                "for(j in 1:ncol(tas_df)) {\n",
                "  for(i in 1:length(uyyyy)) {\n",
                "    yearmean[i, j] <- mean(tas_df[uyyyy[i] == yyyy, j]) # A trouver par les étudiants\n",
                "  }\n",
                "}\n",
                "rownames(yearmean) <- uyyyy\n",
                "\n",
                "# Peut être aussi calculé de la manière suivante\n",
                "compute_yearmean <- function(tas, yyyy){\n",
                "  tapply(tas, yyyy, mean, na.rm = TRUE)\n",
                "}\n",
                "yearmean <-\n",
                "  apply(\n",
                "    tas_df,\n",
                "    2,\n",
                "    compute_yearmean,\n",
                "    yyyy = yyyy\n",
                "  )\n"
            ]
        },
        {
            "cell_type": "markdown",
            "metadata": {},
            "source": [
                "### Calcul du cycle saisonnier moyen\n",
                "\n",
                "Ici, on calcule la valeur du cycle saisonnier moyen en un jour de l'année comme la moyenne des températures sur toutes les années pour ce jour calendaire.\n",
                "\n",
                "La variable *saisonality* est une matrice de dimension 365x11 où une ligne représente le jour de l'année et une colonne un modèle.\n"
            ]
        },
        {
            "cell_type": "code",
            "execution_count": null,
            "metadata": {},
            "outputs": [],
            "source": [
                "seasonality <-\n",
                "\n"
            ]
        },
        {
            "cell_type": "markdown",
            "metadata": {},
            "source": [
                "### Calcul des anomalies\n",
                "la variable *anomalies* est une matrice de même dimension que la matrice *tas_df*.\n"
            ]
        },
        {
            "cell_type": "code",
            "execution_count": null,
            "metadata": {},
            "outputs": [],
            "source": [
                "anomalies <- \n",
                "dimnames(anomalies) <- dimnames(tas_df)\n"
            ]
        },
        {
            "cell_type": "markdown",
            "metadata": {},
            "source": [
                "\n",
                "### Plot des séries temporelles brutes\n"
            ]
        },
        {
            "cell_type": "code",
            "execution_count": null,
            "metadata": {},
            "outputs": [],
            "source": [
                "ylim <- range(tas_df, na.rm = TRUE)\n",
                "par(mfrow = c(4, 3))\n",
                "apply(tas_df, 2, plot, type = \"l\", ylim = ylim)\n",
                "par(mfrow = c(1, 1))\n",
                "# Comparaison des séries 2 à 2.\n",
                "pairs(tas_df)\n"
            ]
        },
        {
            "cell_type": "markdown",
            "metadata": {},
            "source": [
                "\n",
                "### Plot des séries de moyenne annuelle\n"
            ]
        },
        {
            "cell_type": "code",
            "execution_count": null,
            "metadata": {},
            "outputs": [],
            "source": [
                "\n",
                "\n"
            ]
        },
        {
            "cell_type": "markdown",
            "metadata": {},
            "source": [
                "\n",
                "### Plot de la saisonnalité\n"
            ]
        },
        {
            "cell_type": "code",
            "execution_count": null,
            "metadata": {},
            "outputs": [],
            "source": [
                "\n",
                "\n"
            ]
        },
        {
            "cell_type": "markdown",
            "metadata": {},
            "source": [
                "Comment le cycle saisonnier estimé de cette façon vous parait-il ?\n",
                "\n",
                "### Plot des anomalies\n"
            ]
        },
        {
            "cell_type": "code",
            "execution_count": null,
            "metadata": {},
            "outputs": [],
            "source": [
                "\n",
                "\n"
            ]
        },
        {
            "cell_type": "markdown",
            "metadata": {},
            "source": [
                "### Histogramme des anomalies\n",
                "\n"
            ]
        },
        {
            "cell_type": "code",
            "execution_count": null,
            "metadata": {},
            "outputs": [],
            "source": [
                "xlim <- range(anomalies, na.rm = TRUE)\n",
                "par(mfrow = c(4, 3))\n",
                "for(i in seq.int(ncol(anomalies))){\n",
                "   hist(anomalies[, i], xlim = xlim)\n",
                "}\n",
                "# ou avec\n",
                "# histogram <- apply(anomalies, 2, hist, xlim = xlim)\n"
            ]
        },
        {
            "cell_type": "markdown",
            "metadata": {},
            "source": [
                "### Boxplot des anomalies\n",
                "\n"
            ]
        },
        {
            "cell_type": "code",
            "execution_count": null,
            "metadata": {},
            "outputs": [],
            "source": [
                "\n",
                "\n"
            ]
        },
        {
            "cell_type": "markdown",
            "metadata": {},
            "source": [
                "\n",
                "### Plot des coefficients d'autocorrelation\n"
            ]
        },
        {
            "cell_type": "code",
            "execution_count": null,
            "metadata": {},
            "outputs": [],
            "source": [
                "pacf_ano <- apply(anomalies, 2, function(x) pacf(x, na.action = na.pass, plot = FALSE)$acf)\n",
                "par(mfrow = c(4, 3))\n",
                "apply(anomalies, 2, acf, na.action = na.pass)\n"
            ]
        },
        {
            "cell_type": "markdown",
            "metadata": {},
            "source": [
                "### Quelques statitiques\n",
                "Calculer la moyenne *mu* et la variance *sigma* des différentes séries d'anomalies.\n",
                "\n",
                "*mu* et *sigma* sont des vecteurs de longeur 11 (nombre de modèle).\n",
                "\n",
                "Vous pouvez utiliser les fonctions *mean* et *sd* de R avec l'option *na.rm = TRUE*.\n"
            ]
        },
        {
            "cell_type": "code",
            "execution_count": null,
            "metadata": {},
            "outputs": [],
            "source": [
                "# Moment d'ordre 1\n",
                "mu <- \n",
                "  \n",
                "# Moment d'ordre 2\n",
                "sigma <- \n",
                "\n",
                "# Moment d'ordre 3\n",
                "skewness <- apply(\n",
                "  sweep(anomalies, 2, mu, FUN = \"-\")^3,\n",
                "  2, mean, na.rm = TRUE\n",
                ") / sigma^3 \n",
                "\n",
                "# Moment d'ordre 4\n",
                "kurtosis <- apply(\n",
                "  sweep(anomalies, 2, mu, FUN = \"-\")^4,\n",
                "  2, mean, na.rm = TRUE\n",
                ") / sigma^4 \n",
                "\n",
                "# Tendance linéaire\n",
                "trends <- apply(anomalies, 2, function(y){\n",
                "  x <- cbind(1, seq_along(y))\n",
                "  ina <- is.na(y)\n",
                "  lm.fit(x = x[!ina,, drop = FALSE], y = y[!ina])$coefficients[2]\n",
                "})\n"
            ]
        },
        {
            "cell_type": "markdown",
            "metadata": {},
            "source": [
                "### A quelles autres propriétés des séries temporelles pouvez-vous intérésser ?\n",
                "\n",
                "### Distance euclidienne entre caractéristiques des differentes series temporelles\n",
                "Utiliser la fonction *dist* pour calculer une distance entre les modèles\n"
            ]
        },
        {
            "cell_type": "code",
            "execution_count": null,
            "metadata": {},
            "outputs": [],
            "source": [
                "# Exemple: On définit la distance entre deux modèles par la distance euclidienne entre leurs séries temporelles brutes.\n",
                "d <- dist(t(tas_df)) # euclidean distances between the columns of tas_df\n",
                "\n",
                "# Exemple: On défini la distance entre deux modèles par leur différence sur la moyenne.\n",
                "d <- dist(mu) \n",
                "\n",
                "# Exemple: On défini la distance entre deux modèles par leur différence sur la moyenne.\n",
                "d <- dist(trends) \n"
            ]
        },
        {
            "cell_type": "markdown",
            "metadata": {},
            "source": [
                "\n",
                "### Représentation des modèles en fonction de leurs distances respectives les autres modèle sur un plan 2d\n"
            ]
        },
        {
            "cell_type": "code",
            "execution_count": null,
            "metadata": {},
            "outputs": [],
            "source": [
                "fit <- cmdscale(d, eig=TRUE, k=2) # k is the number of dim\n",
                "fit # view results\n",
                "# plot solution\n",
                "x <- fit$points[,1]\n",
                "y <- fit$points[,2]\n",
                "par(mfrow = c(1, 1))\n",
                "plot(x, y, xlab=\"Coordinate 1\", ylab=\"Coordinate 2\",\n",
                "  main=\"Metric MDS\", type=\"n\")\n",
                "text(x, y, labels = colnames(anomalies), cex=.6)\n"
            ]
        }
    ],
    "metadata": {
        "anaconda-cloud": "",
        "kernelspec": {
            "display_name": "R",
            "langauge": "R",
            "name": "ir"
        },
        "language_info": {
            "codemirror_mode": "r",
            "file_extension": ".r",
            "mimetype": "text/x-r-source",
            "name": "R",
            "pygments_lexer": "r",
            "version": "3.4.1"
        }
    },
    "nbformat": 4,
    "nbformat_minor": 1
}
